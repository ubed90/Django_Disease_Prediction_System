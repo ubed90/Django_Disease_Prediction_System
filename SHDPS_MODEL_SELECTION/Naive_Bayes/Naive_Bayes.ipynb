{
 "cells": [
  {
   "cell_type": "code",
   "execution_count": 52,
   "metadata": {},
   "outputs": [],
   "source": [
    "import numpy as np\n",
    "import pandas as pd\n",
    "import joblib"
   ]
  },
  {
   "cell_type": "code",
   "execution_count": 53,
   "metadata": {},
   "outputs": [],
   "source": [
    "dataset_training = pd.read_csv('SHDPS_Training.csv')\n",
    "dataset_testing = pd.read_csv('SHDPS_Testing.csv')\n",
    "X_train = dataset_training.iloc[:, :-2].values\n",
    "X_test = dataset_testing.iloc[:, :-1].values\n",
    "Y_train = dataset_training.iloc[:, -2].values\n",
    "Y_test = dataset_testing.iloc[:, -1].values"
   ]
  },
  {
   "cell_type": "code",
   "execution_count": 54,
   "metadata": {},
   "outputs": [],
   "source": [
    "from sklearn.preprocessing import LabelEncoder\n",
    "labelencoder = LabelEncoder()\n",
    "Y_train_model = labelencoder.fit_transform(Y_train)\n",
    "# Y_test = labelencoder.fit_transform(Y_test)"
   ]
  },
  {
   "cell_type": "code",
   "execution_count": 55,
   "metadata": {},
   "outputs": [],
   "source": [
    "np.set_printoptions(precision=2)\n",
    "print(np.concatenate((Y_train.reshape(len(Y_train) , 1) , Y_train_model.reshape(len(Y_train_model) , 1)) , 1))"
   ]
  },
  {
   "cell_type": "code",
   "execution_count": 56,
   "metadata": {},
   "outputs": [],
   "source": [
    "from sklearn.naive_bayes import GaussianNB , MultinomialNB\n",
    "classifier_1 = GaussianNB()\n",
    "classifier_2 = MultinomialNB()\n",
    "classifier_1.fit(X_train , Y_train_model)\n",
    "classifier_2.fit(X_train , Y_train_model)\n",
    "# classifier_1 = joblib.load('Gaussian_Bayes_Model.sav')\n",
    "# classifier_2 = joblib.load('Multinomial_Bayes_Model.sav')"
   ]
  },
  {
   "cell_type": "code",
   "execution_count": 57,
   "metadata": {},
   "outputs": [],
   "source": [
    "Y_pred = classifier_1.predict(X_test)\n",
    "np.set_printoptions(precision=2)\n",
    "print(np.concatenate((Y_pred.reshape(len(Y_pred) , 1) , Y_test.reshape(len(Y_test) , 1)) , 1))"
   ]
  },
  {
   "cell_type": "code",
   "execution_count": 58,
   "metadata": {},
   "outputs": [],
   "source": [
    "Y_pred = classifier_2.predict(X_test)\n",
    "np.set_printoptions(precision=2)\n",
    "print(np.concatenate((Y_pred.reshape(len(Y_pred) , 1) , Y_test.reshape(len(Y_test) , 1)) , 1))"
   ]
  },
  {
   "cell_type": "code",
   "execution_count": 59,
   "metadata": {},
   "outputs": [],
   "source": [
    "accuracy_score = classifier_1.predict_proba(X_test)\n",
    "accuracy_score = accuracy_score.max() * 100\n",
    "accuracy_score"
   ]
  },
  {
   "cell_type": "code",
   "execution_count": 60,
   "metadata": {},
   "outputs": [],
   "source": [
    "accuracy_score = classifier_2.predict_proba(X_test)\n",
    "accuracy_score = accuracy_score.max() * 100\n",
    "accuracy_score"
   ]
  },
  {
   "cell_type": "code",
   "execution_count": 61,
   "metadata": {},
   "outputs": [
    {
     "name": "stdout",
     "output_type": "stream",
     "text": [
      "132\n"
     ]
    }
   ],
   "source": [
    "symptoms = dataset_training.columns[ : -2]\n",
    "print(len(symptoms))"
   ]
  },
  {
   "cell_type": "code",
   "execution_count": 62,
   "metadata": {},
   "outputs": [
    {
     "data": {
      "text/plain": [
       "5"
      ]
     },
     "execution_count": 62,
     "metadata": {},
     "output_type": "execute_result"
    }
   ],
   "source": [
    "input_symtoms=[]\n",
    "for x in range(0,len(symptoms)):\n",
    "    input_symtoms.append(0)\n",
    "for i in range(1 , len(symptoms) , 30):\n",
    "    input_symtoms[i] = 1\n",
    "input_symtoms.count(1)"
   ]
  },
  {
   "cell_type": "code",
   "execution_count": 63,
   "metadata": {},
   "outputs": [
    {
     "name": "stdout",
     "output_type": "stream",
     "text": [
      "skin_rash\n",
      "headache\n",
      "bloody_stool\n",
      "continuous_feel_of_urine\n",
      "painful_walking\n"
     ]
    }
   ],
   "source": [
    "# NAME OF SYMPTOMS\n",
    "for i in range(0 , len(input_symtoms)):\n",
    "    if input_symtoms[i] == 1:\n",
    "        print(symptoms[i])"
   ]
  },
  {
   "cell_type": "code",
   "execution_count": 64,
   "metadata": {},
   "outputs": [],
   "source": [
    "my_symptoms_pred_1 = classifier_1.predict([input_symtoms])\n",
    "my_symptoms_pred_acc_score_1 = classifier_1.predict_proba([input_symtoms])"
   ]
  },
  {
   "cell_type": "code",
   "execution_count": 65,
   "metadata": {},
   "outputs": [],
   "source": [
    "my_symptoms_pred_2 = classifier_2.predict([input_symtoms])\n",
    "my_symptoms_pred_acc_score_2 = classifier_2.predict_proba([input_symtoms])"
   ]
  },
  {
   "cell_type": "code",
   "execution_count": 66,
   "metadata": {},
   "outputs": [
    {
     "name": "stdout",
     "output_type": "stream",
     "text": [
      "Acne\n",
      "57.03373493843088\n"
     ]
    }
   ],
   "source": [
    "for num , disease in zip(Y_train_model , Y_train):\n",
    "    if int(num) == int(my_symptoms_pred_1[0]):\n",
    "        print(disease)\n",
    "        break\n",
    "else:\n",
    "    print('No Disease')\n",
    "print(my_symptoms_pred_acc_score_1.max()*100)"
   ]
  },
  {
   "cell_type": "code",
   "execution_count": 67,
   "metadata": {},
   "outputs": [
    {
     "name": "stdout",
     "output_type": "stream",
     "text": [
      "Chicken pox\n",
      "15.808557640700057\n"
     ]
    }
   ],
   "source": [
    "for num , disease in zip(Y_train_model , Y_train):\n",
    "    if int(num) == int(my_symptoms_pred_2[0]):\n",
    "        print(disease)\n",
    "        break\n",
    "else:\n",
    "    print('No Disease')\n",
    "print(my_symptoms_pred_acc_score_2.max()*100)"
   ]
  },
  {
   "cell_type": "code",
   "execution_count": 68,
   "metadata": {},
   "outputs": [],
   "source": [
    "# joblib.dump(classifier_1 , 'Gaussian_Bayes_Model.sav')\n",
    "# joblib.dump(classifier_2 , 'Multinomial_Bayes_Model.sav')"
   ]
  }
 ],
 "metadata": {
  "kernelspec": {
   "display_name": "Python 3",
   "language": "python",
   "name": "python3"
  },
  "language_info": {
   "codemirror_mode": {
    "name": "ipython",
    "version": 3
   },
   "file_extension": ".py",
   "mimetype": "text/x-python",
   "name": "python",
   "nbconvert_exporter": "python",
   "pygments_lexer": "ipython3",
   "version": "3.9.0"
  }
 },
 "nbformat": 4,
 "nbformat_minor": 4
}
