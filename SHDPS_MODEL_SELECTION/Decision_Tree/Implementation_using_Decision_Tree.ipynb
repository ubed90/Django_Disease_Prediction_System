{
 "cells": [
  {
   "cell_type": "code",
   "execution_count": 15,
   "metadata": {},
   "outputs": [],
   "source": [
    "import numpy as np\n",
    "import pandas as pd\n",
    "import joblib"
   ]
  },
  {
   "cell_type": "code",
   "execution_count": 16,
   "metadata": {},
   "outputs": [],
   "source": [
    "dataset_training = pd.read_csv('SHDPS_Training.csv')\n",
    "dataset_testing = pd.read_csv('SHDPS_Testing.csv')\n",
    "X_train = dataset_training.iloc[:, :-2].values\n",
    "X_test = dataset_testing.iloc[:, :-1].values\n",
    "Y_train = dataset_training.iloc[:, -2].values\n",
    "Y_test = dataset_testing.iloc[:, -1].values"
   ]
  },
  {
   "cell_type": "code",
   "execution_count": 17,
   "metadata": {},
   "outputs": [],
   "source": [
    "from sklearn.preprocessing import LabelEncoder\n",
    "labelencoder = LabelEncoder()\n",
    "Y_train_model = labelencoder.fit_transform(Y_train)\n",
    "# Y_test = labelencoder.fit_transform(Y_test)"
   ]
  },
  {
   "cell_type": "code",
   "execution_count": 18,
   "metadata": {},
   "outputs": [],
   "source": [
    "np.set_printoptions(precision=2)\n",
    "print(np.concatenate((Y_train.reshape(len(Y_train) , 1) , Y_train_model.reshape(len(Y_train_model) , 1)) , 1))"
   ]
  },
  {
   "cell_type": "code",
   "execution_count": 19,
   "metadata": {},
   "outputs": [],
   "source": [
    "from sklearn.tree import DecisionTreeClassifier\n",
    "classifier = DecisionTreeClassifier(criterion = 'entropy' , random_state = 0)\n",
    "classifier.fit(X_train , Y_train_model)\n",
    "# classifier = joblib.load('Decision_Tree_Model.sav')"
   ]
  },
  {
   "cell_type": "code",
   "execution_count": 20,
   "metadata": {},
   "outputs": [],
   "source": [
    "Y_pred = classifier.predict(X_test)\n",
    "np.set_printoptions(precision=2)\n",
    "print(np.concatenate((Y_pred.reshape(len(Y_pred) , 1) , Y_test.reshape(len(Y_test) , 1)) , 1))"
   ]
  },
  {
   "cell_type": "code",
   "execution_count": 21,
   "metadata": {},
   "outputs": [],
   "source": [
    "accuracy_score = classifier.predict_proba(X_test)\n",
    "accuracy_score = accuracy_score.max() * 100\n",
    "accuracy_score"
   ]
  },
  {
   "cell_type": "code",
   "execution_count": 22,
   "metadata": {},
   "outputs": [
    {
     "name": "stdout",
     "output_type": "stream",
     "text": [
      "132\n"
     ]
    }
   ],
   "source": [
    "symptoms = dataset_training.columns[ : -2]\n",
    "print(len(symptoms))"
   ]
  },
  {
   "cell_type": "code",
   "execution_count": 23,
   "metadata": {},
   "outputs": [
    {
     "data": {
      "text/plain": [
       "5"
      ]
     },
     "execution_count": 23,
     "metadata": {},
     "output_type": "execute_result"
    }
   ],
   "source": [
    "input_symtoms=[]\n",
    "for x in range(0,len(symptoms)):\n",
    "    input_symtoms.append(0)\n",
    "for i in range(1 , len(symptoms) , 30):\n",
    "    input_symtoms[i] = 1\n",
    "input_symtoms.count(1)"
   ]
  },
  {
   "cell_type": "code",
   "execution_count": 24,
   "metadata": {},
   "outputs": [
    {
     "name": "stdout",
     "output_type": "stream",
     "text": [
      "skin_rash\n",
      "headache\n",
      "bloody_stool\n",
      "continuous_feel_of_urine\n",
      "painful_walking\n"
     ]
    }
   ],
   "source": [
    "# NAME OF SYMPTOMS\n",
    "for i in range(0 , len(input_symtoms)):\n",
    "    if input_symtoms[i] == 1:\n",
    "        print(symptoms[i])"
   ]
  },
  {
   "cell_type": "code",
   "execution_count": 25,
   "metadata": {},
   "outputs": [],
   "source": [
    "my_symptoms_pred = classifier.predict([input_symtoms])\n",
    "my_symptoms_pred_acc_score = classifier.predict_proba([input_symtoms])"
   ]
  },
  {
   "cell_type": "code",
   "execution_count": 26,
   "metadata": {},
   "outputs": [
    {
     "name": "stdout",
     "output_type": "stream",
     "text": [
      "Impetigo\n",
      "100.0\n"
     ]
    }
   ],
   "source": [
    "for num , disease in zip(Y_train_model , Y_train):\n",
    "    if int(num) == int(my_symptoms_pred[0]):\n",
    "        print(disease)\n",
    "        break\n",
    "else:\n",
    "    print('No Disease')\n",
    "print(my_symptoms_pred_acc_score.max()*100)"
   ]
  },
  {
   "cell_type": "code",
   "execution_count": 27,
   "metadata": {},
   "outputs": [],
   "source": [
    "# joblib.dump(classifier , 'Decision_Tree_Model.sav')"
   ]
  }
 ],
 "metadata": {
  "kernelspec": {
   "display_name": "Python 3",
   "language": "python",
   "name": "python3"
  },
  "language_info": {
   "codemirror_mode": {
    "name": "ipython",
    "version": 3
   },
   "file_extension": ".py",
   "mimetype": "text/x-python",
   "name": "python",
   "nbconvert_exporter": "python",
   "pygments_lexer": "ipython3",
   "version": "3.9.0"
  }
 },
 "nbformat": 4,
 "nbformat_minor": 4
}
