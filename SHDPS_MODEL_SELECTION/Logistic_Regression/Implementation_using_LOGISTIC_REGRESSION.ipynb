{
 "cells": [
  {
   "cell_type": "code",
   "execution_count": 1,
   "metadata": {},
   "outputs": [],
   "source": [
    "import numpy as np\n",
    "import pandas as pd"
   ]
  },
  {
   "cell_type": "code",
   "execution_count": 2,
   "metadata": {},
   "outputs": [],
   "source": [
    "dataset_training = pd.read_csv('SHDPS_Training.csv')\n",
    "dataset_testing = pd.read_csv('SHDPS_Testing.csv')\n",
    "X_train = dataset_training.iloc[:, :-2].values\n",
    "X_test = dataset_testing.iloc[:, :-1].values\n",
    "Y_train = dataset_training.iloc[:, -2].values\n",
    "Y_test = dataset_testing.iloc[:, -1].values"
   ]
  },
  {
   "cell_type": "code",
   "execution_count": 3,
   "metadata": {},
   "outputs": [],
   "source": [
    "from sklearn.preprocessing import LabelEncoder\n",
    "labelencoder = LabelEncoder()\n",
    "Y_train_model = labelencoder.fit_transform(Y_train)\n",
    "# Y_test = labelencoder.fit_transform(Y_test)"
   ]
  },
  {
   "cell_type": "code",
   "execution_count": 4,
   "metadata": {},
   "outputs": [
    {
     "name": "stdout",
     "output_type": "stream",
     "text": [
      "[['Fungal infection' 15]\n",
      " ['Fungal infection' 15]\n",
      " ['Fungal infection' 15]\n",
      " ...\n",
      " ['Urinary tract infection' 38]\n",
      " ['Psoriasis' 35]\n",
      " ['Impetigo' 27]]\n"
     ]
    }
   ],
   "source": [
    "np.set_printoptions(precision=2)\n",
    "print(np.concatenate((Y_train.reshape(len(Y_train) , 1) , Y_train_model.reshape(len(Y_train_model) , 1)) , 1))"
   ]
  },
  {
   "cell_type": "code",
   "execution_count": 5,
   "metadata": {},
   "outputs": [
    {
     "data": {
      "text/plain": [
       "LogisticRegression(random_state=0)"
      ]
     },
     "execution_count": 5,
     "metadata": {},
     "output_type": "execute_result"
    }
   ],
   "source": [
    "from sklearn.linear_model import LogisticRegression\n",
    "classifier = LogisticRegression(random_state = 0)\n",
    "classifier.fit(X_train , Y_train_model)"
   ]
  },
  {
   "cell_type": "code",
   "execution_count": 6,
   "metadata": {},
   "outputs": [
    {
     "name": "stdout",
     "output_type": "stream",
     "text": [
      "[[15 'Fungal infection']\n",
      " [4 'Allergy']\n",
      " [16 'GERD']\n",
      " [9 'Chronic cholestasis']\n",
      " [14 'Drug Reaction']\n",
      " [33 'Peptic ulcer diseae']\n",
      " [1 'AIDS']\n",
      " [12 'Diabetes ']\n",
      " [17 'Gastroenteritis']\n",
      " [6 'Bronchial Asthma']\n",
      " [23 'Hypertension ']\n",
      " [30 'Migraine']\n",
      " [7 'Cervical spondylosis']\n",
      " [32 'Paralysis (brain hemorrhage)']\n",
      " [28 'Jaundice']\n",
      " [29 'Malaria']\n",
      " [8 'Chicken pox']\n",
      " [11 'Dengue']\n",
      " [37 'Typhoid']\n",
      " [40 'hepatitis A']\n",
      " [19 'Hepatitis B']\n",
      " [20 'Hepatitis C']\n",
      " [21 'Hepatitis D']\n",
      " [22 'Hepatitis E']\n",
      " [3 'Alcoholic hepatitis']\n",
      " [36 'Tuberculosis']\n",
      " [10 'Common Cold']\n",
      " [34 'Pneumonia']\n",
      " [13 'Dimorphic hemmorhoids(piles)']\n",
      " [18 'Heart attack']\n",
      " [39 'Varicose veins']\n",
      " [26 'Hypothyroidism']\n",
      " [24 'Hyperthyroidism']\n",
      " [25 'Hypoglycemia']\n",
      " [31 'Osteoarthristis']\n",
      " [5 'Arthritis']\n",
      " [0 '(vertigo) Paroymsal  Positional Vertigo']\n",
      " [2 'Acne']\n",
      " [38 'Urinary tract infection']\n",
      " [35 'Psoriasis']\n",
      " [27 'Impetigo']\n",
      " [15 'Fungal infection']]\n"
     ]
    }
   ],
   "source": [
    "Y_pred = classifier.predict(X_test)\n",
    "np.set_printoptions(precision=2)\n",
    "print(np.concatenate((Y_pred.reshape(len(Y_pred) , 1) , Y_test.reshape(len(Y_test) , 1)) , 1))"
   ]
  },
  {
   "cell_type": "code",
   "execution_count": 7,
   "metadata": {},
   "outputs": [
    {
     "data": {
      "text/plain": [
       "99.50371590773386"
      ]
     },
     "execution_count": 7,
     "metadata": {},
     "output_type": "execute_result"
    }
   ],
   "source": [
    "accuracy_score = classifier.predict_proba(X_test)\n",
    "accuracy_score = accuracy_score.max() * 100\n",
    "accuracy_score"
   ]
  },
  {
   "cell_type": "code",
   "execution_count": 8,
   "metadata": {},
   "outputs": [
    {
     "name": "stdout",
     "output_type": "stream",
     "text": [
      "132\n"
     ]
    }
   ],
   "source": [
    "symptoms = dataset_training.columns[ : -2]\n",
    "print(len(symptoms))"
   ]
  },
  {
   "cell_type": "code",
   "execution_count": 9,
   "metadata": {},
   "outputs": [
    {
     "data": {
      "text/plain": [
       "5"
      ]
     },
     "execution_count": 9,
     "metadata": {},
     "output_type": "execute_result"
    }
   ],
   "source": [
    "input_symtoms=[]\n",
    "for x in range(0,len(symptoms)):\n",
    "    input_symtoms.append(0)\n",
    "for i in range(1 , len(symptoms) , 30):\n",
    "    input_symtoms[i] = 1\n",
    "input_symtoms.count(1)"
   ]
  },
  {
   "cell_type": "code",
   "execution_count": 10,
   "metadata": {},
   "outputs": [
    {
     "name": "stdout",
     "output_type": "stream",
     "text": [
      "skin_rash\n",
      "headache\n",
      "bloody_stool\n",
      "continuous_feel_of_urine\n",
      "painful_walking\n"
     ]
    }
   ],
   "source": [
    "# NAME OF SYMPTOMS\n",
    "for i in range(0 , len(input_symtoms)):\n",
    "    if input_symtoms[i] == 1:\n",
    "        print(symptoms[i])"
   ]
  },
  {
   "cell_type": "code",
   "execution_count": 11,
   "metadata": {},
   "outputs": [],
   "source": [
    "my_symptoms_pred = classifier.predict([input_symtoms])\n",
    "my_symptoms_pred_acc_score = classifier.predict_proba([input_symtoms])"
   ]
  },
  {
   "cell_type": "code",
   "execution_count": 12,
   "metadata": {},
   "outputs": [
    {
     "name": "stdout",
     "output_type": "stream",
     "text": [
      "Urinary tract infection\n",
      "12.773928943972304\n"
     ]
    }
   ],
   "source": [
    "for num , disease in zip(Y_train_model , Y_train):\n",
    "    if int(num) == int(my_symptoms_pred[0]):\n",
    "        print(disease)\n",
    "        break\n",
    "else:\n",
    "    print('No Disease')\n",
    "print(my_symptoms_pred_acc_score.max()*100)"
   ]
  }
 ],
 "metadata": {
  "kernelspec": {
   "display_name": "Python 3",
   "language": "python",
   "name": "python3"
  },
  "language_info": {
   "codemirror_mode": {
    "name": "ipython",
    "version": 3
   },
   "file_extension": ".py",
   "mimetype": "text/x-python",
   "name": "python",
   "nbconvert_exporter": "python",
   "pygments_lexer": "ipython3",
   "version": "3.9.0"
  }
 },
 "nbformat": 4,
 "nbformat_minor": 4
}
